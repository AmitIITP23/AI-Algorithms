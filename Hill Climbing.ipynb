{
  "nbformat": 4,
  "nbformat_minor": 0,
  "metadata": {
    "colab": {
      "name": "Hill Climbing.ipynb",
      "provenance": []
    },
    "kernelspec": {
      "name": "python3",
      "display_name": "Python 3"
    },
    "language_info": {
      "name": "python"
    }
  },
  "cells": [
    {
      "cell_type": "markdown",
      "metadata": {
        "id": "OpQGhiAMnhAp"
      },
      "source": [
        "Hill Climbing with heuristic as Misplaced Tiles and Manhattan"
      ]
    },
    {
      "cell_type": "code",
      "metadata": {
        "id": "mfFnvNCbbF_d"
      },
      "source": [
        "initial=[[1,2,3],[0,4,6],[7,5,8]]\n",
        "goal=[[1,2,3],[4,5,6],[7,8,0]]"
      ],
      "execution_count": 135,
      "outputs": []
    },
    {
      "cell_type": "code",
      "metadata": {
        "id": "AnW_G_dPbUK1"
      },
      "source": [
        "def findHeuristicValue(state):\n",
        "  value=0\n",
        "  for i in range(len(state)):\n",
        "    for j in range(len(state[0])):\n",
        "      if state[i][j]!=goal[i][j]:\n",
        "        value=value+1\n",
        "  return value"
      ],
      "execution_count": 136,
      "outputs": []
    },
    {
      "cell_type": "code",
      "metadata": {
        "id": "owSmOAz7bpdu"
      },
      "source": [
        "def checkLegalMoves(state):\n",
        "  a=0\n",
        "  b=0\n",
        "  breakFirstLoopToo=False\n",
        "  for i in range(len(state)):\n",
        "    for j in range(len(state[0])):\n",
        "      if(state[i][j]==0):\n",
        "        a=i\n",
        "        b=j\n",
        "        breakFirstLoopToo=True\n",
        "        break\n",
        "    if(breakFirstLoopToo==True):\n",
        "      break\n",
        "  if (a==0):\n",
        "    if(b==0):\n",
        "      return ['R','D']\n",
        "    elif(b==1):\n",
        "      return ['L','R','D']\n",
        "    elif(b==2):\n",
        "      return ['L','D']\n",
        "  elif (a==1):\n",
        "    if(b==0):\n",
        "      return ['R','U','D']\n",
        "    elif(b==1):\n",
        "      return ['L','R','D','U']\n",
        "    elif(b==2):\n",
        "      return ['L','D','U']\n",
        "  elif(a==2):\n",
        "    if(b==0):\n",
        "      return ['U','R']\n",
        "    elif(b==1):\n",
        "      return ['L','R','U']\n",
        "    elif(b==2):\n",
        "      return ['L','U']\n"
      ],
      "execution_count": 137,
      "outputs": []
    },
    {
      "cell_type": "code",
      "metadata": {
        "id": "pE9JEqcvbyig"
      },
      "source": [
        "def findBlank(state):\n",
        "  for i in range(len(state)):\n",
        "    for j in range(len(state[0])):\n",
        "      if(state[i][j]==0):\n",
        "        return i,j\n",
        "\n",
        "\n"
      ],
      "execution_count": 138,
      "outputs": []
    },
    {
      "cell_type": "code",
      "metadata": {
        "id": "6xN_blJdcrzI"
      },
      "source": [
        "import copy \n",
        "def action(move,state):\n",
        "  newState=copy.deepcopy(state)\n",
        "  # for i in state:\n",
        "  #   newState.append(i)\n",
        "  blank=findBlank(newState)\n",
        "  x=blank[0]\n",
        "  y=blank[1]\n",
        "  if(move=='U'):\n",
        "    temp=newState[x][y]\n",
        "    newState[x][y]=newState[x-1][y]\n",
        "    newState[x-1][y]=temp\n",
        "  elif(move=='D'):\n",
        "    temp=newState[x][y]\n",
        "    newState[x][y]=newState[x+1][y]\n",
        "    newState[x+1][y]=temp\n",
        "  elif(move=='R'):\n",
        "    temp=newState[x][y]\n",
        "    newState[x][y]=newState[x][y+1]\n",
        "    newState[x][y+1]=temp\n",
        "  elif(move=='L'):\n",
        "    temp=newState[x][y]\n",
        "    newState[x][y]=newState[x][y-1]\n",
        "    newState[x][y-1]=temp\n",
        "  return newState\n",
        "\n",
        "\n",
        "    "
      ],
      "execution_count": 139,
      "outputs": []
    },
    {
      "cell_type": "code",
      "metadata": {
        "colab": {
          "base_uri": "https://localhost:8080/"
        },
        "id": "342xH-MNer6-",
        "outputId": "8c8c62b4-0cb1-41b5-e5cf-74d6fbdb87f6"
      },
      "source": [
        "x=action('L',initial)\n",
        "print(x)\n",
        "print(initial)"
      ],
      "execution_count": 140,
      "outputs": [
        {
          "output_type": "stream",
          "name": "stdout",
          "text": [
            "[[1, 2, 3], [6, 4, 0], [7, 5, 8]]\n",
            "[[1, 2, 3], [0, 4, 6], [7, 5, 8]]\n"
          ]
        }
      ]
    },
    {
      "cell_type": "code",
      "metadata": {
        "colab": {
          "base_uri": "https://localhost:8080/"
        },
        "id": "8pfgzDcPezby",
        "outputId": "cd578eee-c21d-4cc5-ad54-a592ba82ba96"
      },
      "source": [
        "initial\n"
      ],
      "execution_count": 141,
      "outputs": [
        {
          "output_type": "execute_result",
          "data": {
            "text/plain": [
              "[[1, 2, 3], [0, 4, 6], [7, 5, 8]]"
            ]
          },
          "metadata": {},
          "execution_count": 141
        }
      ]
    },
    {
      "cell_type": "code",
      "metadata": {
        "id": "v9pr8YMie_jf"
      },
      "source": [
        "def hc(state):\n",
        "  flag=False\n",
        "  temp=copy.deepcopy(state)\n",
        "  legalMoves=checkLegalMoves(temp)\n",
        "  current=findHeuristicValue(temp)\n",
        "  move=None\n",
        "  returnState=None\n",
        "  for i in legalMoves:\n",
        "    temp2=action(i,temp)\n",
        "    next=findHeuristicValue(temp2)\n",
        "    if next<current:\n",
        "      move=i\n",
        "      current=next\n",
        "      returnState=temp2\n",
        "      flag=True\n",
        "  if flag==False:\n",
        "    return False\n",
        "    \n",
        "  \n",
        "\n",
        "  return move,returnState\n",
        "\n",
        "\n"
      ],
      "execution_count": 142,
      "outputs": []
    },
    {
      "cell_type": "code",
      "metadata": {
        "colab": {
          "base_uri": "https://localhost:8080/"
        },
        "id": "6vBuUhIaqhI_",
        "outputId": "89b1dfec-aedd-4866-adc5-92b9c079227c"
      },
      "source": [
        "x=copy.deepcopy(initial)\n",
        "while x!=goal:\n",
        "  temp=hc(x)\n",
        "  if(temp==False):\n",
        "    print('Failed')\n",
        "    break\n",
        "  print(temp[0])\n",
        "  print(temp[1])\n",
        "  # print(temp[2])\n",
        "  x=temp[1]\n",
        "  if(x==goal):\n",
        "    print('Success')\n"
      ],
      "execution_count": 143,
      "outputs": [
        {
          "output_type": "stream",
          "name": "stdout",
          "text": [
            "R\n",
            "[[1, 2, 3], [4, 0, 6], [7, 5, 8]]\n",
            "D\n",
            "[[1, 2, 3], [4, 5, 6], [7, 0, 8]]\n",
            "R\n",
            "[[1, 2, 3], [4, 5, 6], [7, 8, 0]]\n",
            "Success\n"
          ]
        }
      ]
    },
    {
      "cell_type": "code",
      "metadata": {
        "id": "2mM8DrF9q5sp"
      },
      "source": [
        "def manhattanHeuristics(current,goal):\n",
        "   count = 0\n",
        "   N = len(goal)\n",
        "   for i in range(0,N):\n",
        "       for j in range(0,N):\n",
        "            temp = current[i][j]\n",
        "            for m in range(0,N):\n",
        "                for n in range(0,N):\n",
        "                    if temp == goal[m][n] and temp != 'B':\n",
        "                      count = count + abs(m-i) + abs(n-j)\n",
        "   return count\n",
        "def hc1(state):\n",
        "  flag=False\n",
        "  temp=copy.deepcopy(state)\n",
        "  legalMoves=checkLegalMoves(temp)\n",
        "  current=manhattanHeuristics(temp,goal)\n",
        "  move=None\n",
        "  returnState=None\n",
        "  for i in legalMoves:\n",
        "    temp2=action(i,temp)\n",
        "    next=manhattanHeuristics(temp2,goal)\n",
        "    if next<current:\n",
        "      move=i\n",
        "      current=next\n",
        "      returnState=temp2\n",
        "      flag=True\n",
        "  if(flag==False):\n",
        "    return False\n",
        "  \n",
        "\n",
        "  return move,returnState\n"
      ],
      "execution_count": 144,
      "outputs": []
    },
    {
      "cell_type": "code",
      "metadata": {
        "colab": {
          "base_uri": "https://localhost:8080/"
        },
        "id": "4TZZPpMs7WOv",
        "outputId": "e81bbb26-a7a0-4d77-aff0-95ab304be079"
      },
      "source": [
        "x=copy.deepcopy(initial)\n",
        "while x!=goal:\n",
        "  temp=hc1(x)\n",
        "  if(temp==False):\n",
        "    print('Failed')\n",
        "    break\n",
        "  print(temp[0])\n",
        "  print(temp[1])\n",
        "  # print(temp[2])\n",
        "  x=temp[1]\n",
        "  if(x==goal):\n",
        "    print('success')\n"
      ],
      "execution_count": 145,
      "outputs": [
        {
          "output_type": "stream",
          "name": "stdout",
          "text": [
            "R\n",
            "[[1, 2, 3], [4, 0, 6], [7, 5, 8]]\n",
            "D\n",
            "[[1, 2, 3], [4, 5, 6], [7, 0, 8]]\n",
            "R\n",
            "[[1, 2, 3], [4, 5, 6], [7, 8, 0]]\n"
          ]
        }
      ]
    }
  ]
}